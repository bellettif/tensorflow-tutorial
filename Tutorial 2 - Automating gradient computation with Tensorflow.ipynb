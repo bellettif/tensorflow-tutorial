{
 "cells": [
  {
   "cell_type": "markdown",
   "metadata": {},
   "source": [
    "# Automating gradient computation with Tensorflow"
   ]
  },
  {
   "cell_type": "code",
   "execution_count": 1,
   "metadata": {
    "collapsed": false
   },
   "outputs": [],
   "source": [
    "import tensorflow as tf\n",
    "import numpy as np\n",
    "import matplotlib.pyplot as plt\n",
    "%matplotlib inline\n",
    "import seaborn"
   ]
  },
  {
   "cell_type": "code",
   "execution_count": 2,
   "metadata": {
    "collapsed": false
   },
   "outputs": [
    {
     "ename": "ImportError",
     "evalue": "No module named 'cStringIO'",
     "output_type": "error",
     "traceback": [
      "\u001b[0;31m---------------------------------------------------------------------------\u001b[0m",
      "\u001b[0;31mImportError\u001b[0m                               Traceback (most recent call last)",
      "\u001b[0;32m<ipython-input-2-ac548d7db600>\u001b[0m in \u001b[0;36m<module>\u001b[0;34m()\u001b[0m\n\u001b[1;32m      7\u001b[0m     \u001b[0mplt\u001b[0m\u001b[0;34m.\u001b[0m\u001b[0maxis\u001b[0m\u001b[0;34m(\u001b[0m\u001b[0;34m'off'\u001b[0m\u001b[0;34m)\u001b[0m\u001b[0;34m\u001b[0m\u001b[0m\n\u001b[1;32m      8\u001b[0m \u001b[0;34m\u001b[0m\u001b[0m\n\u001b[0;32m----> 9\u001b[0;31m \u001b[0mplot_img_from_url\u001b[0m\u001b[0;34m(\u001b[0m\u001b[0;34m'http://1u88jj3r4db2x4txp44yqfj1.wpengine.netdna-cdn.com/wp-content/uploads/2015/06/automation.jpg'\u001b[0m\u001b[0;34m)\u001b[0m\u001b[0;34m\u001b[0m\u001b[0m\n\u001b[0m",
      "\u001b[0;32m<ipython-input-2-ac548d7db600>\u001b[0m in \u001b[0;36mplot_img_from_url\u001b[0;34m(url)\u001b[0m\n\u001b[1;32m      1\u001b[0m \u001b[0;32mdef\u001b[0m \u001b[0mplot_img_from_url\u001b[0m\u001b[0;34m(\u001b[0m\u001b[0murl\u001b[0m\u001b[0;34m)\u001b[0m\u001b[0;34m:\u001b[0m\u001b[0;34m\u001b[0m\u001b[0m\n\u001b[1;32m      2\u001b[0m     \u001b[0;32mfrom\u001b[0m \u001b[0mPIL\u001b[0m \u001b[0;32mimport\u001b[0m \u001b[0mImage\u001b[0m\u001b[0;34m\u001b[0m\u001b[0m\n\u001b[0;32m----> 3\u001b[0;31m     \u001b[0;32mimport\u001b[0m \u001b[0mcStringIO\u001b[0m\u001b[0;34m\u001b[0m\u001b[0m\n\u001b[0m\u001b[1;32m      4\u001b[0m     \u001b[0;32mimport\u001b[0m \u001b[0murllib2\u001b[0m\u001b[0;34m\u001b[0m\u001b[0m\n\u001b[1;32m      5\u001b[0m     \u001b[0mim\u001b[0m \u001b[0;34m=\u001b[0m \u001b[0mImage\u001b[0m\u001b[0;34m.\u001b[0m\u001b[0mopen\u001b[0m\u001b[0;34m(\u001b[0m\u001b[0mcStringIO\u001b[0m\u001b[0;34m.\u001b[0m\u001b[0mStringIO\u001b[0m\u001b[0;34m(\u001b[0m\u001b[0murllib2\u001b[0m\u001b[0;34m.\u001b[0m\u001b[0murlopen\u001b[0m\u001b[0;34m(\u001b[0m\u001b[0murl\u001b[0m\u001b[0;34m)\u001b[0m\u001b[0;34m.\u001b[0m\u001b[0mread\u001b[0m\u001b[0;34m(\u001b[0m\u001b[0;34m)\u001b[0m\u001b[0;34m)\u001b[0m\u001b[0;34m)\u001b[0m\u001b[0;34m\u001b[0m\u001b[0m\n",
      "\u001b[0;31mImportError\u001b[0m: No module named 'cStringIO'"
     ]
    }
   ],
   "source": [
    "def plot_img_from_url(url):\n",
    "    from PIL import Image\n",
    "    import cStringIO\n",
    "    import urllib2\n",
    "    im = Image.open(cStringIO.StringIO(urllib2.urlopen(url).read()))\n",
    "    plt.imshow(im, origin='upper')\n",
    "    plt.axis('off')\n",
    "    \n",
    "plot_img_from_url('http://1u88jj3r4db2x4txp44yqfj1.wpengine.netdna-cdn.com/wp-content/uploads/2015/06/automation.jpg')"
   ]
  },
  {
   "cell_type": "markdown",
   "metadata": {},
   "source": [
    "## Least squares"
   ]
  },
  {
   "cell_type": "markdown",
   "metadata": {},
   "source": [
    "Let's generate some data corresponding to a linear regression problem."
   ]
  },
  {
   "cell_type": "code",
   "execution_count": 3,
   "metadata": {
    "collapsed": false
   },
   "outputs": [],
   "source": [
    "n_samples = 1024\n",
    "x = np.random.normal(0.0, 0.5, n_samples)\n",
    "y = 2.5 * x + 2.25 + np.random.normal(0.0, 0.05, n_samples)"
   ]
  },
  {
   "cell_type": "markdown",
   "metadata": {
    "collapsed": false
   },
   "source": [
    "## Gradient Descent\n",
    "\n",
    "As in tutorial 1, we are about to solve the estimation of a * x + b minimizing the squared loss of error with respect to y.\n",
    "\n",
    "This time however, we are going to build the flow computations linking the data (observatoins of x and y) to the loss and let Tensorflow compute the corresponding loss gradient automatically.\n",
    "\n",
    "## In this tutorial, an in this tutorial only, we will mimic the usual matematical notation of variables in upper case and their realization in lower case."
   ]
  },
  {
   "cell_type": "markdown",
   "metadata": {},
   "source": [
    "### Placeholders:\n",
    "\n",
    "The first thing to build is the pair of buckets that will hold the data for x and the data for y. At a given step of our stochastic gradient descent, we will only take batch_size elements into account."
   ]
  },
  {
   "cell_type": "code",
   "execution_count": 4,
   "metadata": {
    "collapsed": false
   },
   "outputs": [],
   "source": [
    "# Let's build a placeholder for the regressor:\n",
    "X = tf.placeholder(shape=(None, 1), dtype=tf.float32)\n",
    "# This is ready to welcome an numpy array of the same shape\n",
    "# when we choose to assign value to the placholder.\n",
    "\n",
    "# Let's do the same thing for the predicted variable:\n",
    "Y = tf.placeholder(shape=(None, 1), dtype=tf.float32)\n",
    "\n",
    "# A shape of None is adaptive and this dimension corresponds to the size of the batch\n",
    "# We may want to change the size of the batch of data without having to re-instantiate\n",
    "# the placeholders."
   ]
  },
  {
   "cell_type": "markdown",
   "metadata": {},
   "source": [
    "### Variables:\n",
    "\n",
    "In the linear regression model we consider there are only two variables: the slope A and the offset B. Let's instantiate them and apply the model to the regressor X."
   ]
  },
  {
   "cell_type": "code",
   "execution_count": 5,
   "metadata": {
    "collapsed": false
   },
   "outputs": [],
   "source": [
    "with tf.variable_scope('linear_prediction'):\n",
    "    shape = [] # Shape [] means that we're using a scalar variable\n",
    "    A = tf.Variable(tf.zeros(shape)) \n",
    "    B = tf.Variable(tf.zeros(shape))\n",
    "\n",
    "def build_linear_predictor(X):\n",
    "    return A * X + B\n",
    "\n",
    "Y_PREDICTED = build_linear_predictor(X)"
   ]
  },
  {
   "cell_type": "markdown",
   "metadata": {},
   "source": [
    "### Loss:\n",
    "\n",
    "Now let's create a loss function encouraging the predicted value for Y to be close to the observations."
   ]
  },
  {
   "cell_type": "code",
   "execution_count": 6,
   "metadata": {
    "collapsed": true
   },
   "outputs": [],
   "source": [
    "LOSS = tf.nn.l2_loss(Y_PREDICTED - Y)"
   ]
  },
  {
   "cell_type": "markdown",
   "metadata": {},
   "source": [
    "### Computing a gradient:\n",
    "\n",
    "Tensorflow is a symbol to symbol automated differentiation engine. Before we can evaluate the gradient for LOSS, we need to instantiate it."
   ]
  },
  {
   "cell_type": "code",
   "execution_count": 7,
   "metadata": {
    "collapsed": false
   },
   "outputs": [],
   "source": [
    "GRADIENT = tf.gradients(LOSS, [A, B])"
   ]
  },
  {
   "cell_type": "markdown",
   "metadata": {},
   "source": [
    "### Creating a session:\n",
    "\n",
    "Now that we have created the symbols of the computation flow, including the gradient which is our quantity of interest here, we need to create a session that will enable the computation of numerical quantities such as the value of LOSS for a particular choice of input for X and Y.\n",
    "\n",
    "A session also keeps in memory the state of variables which we will update as we improve our model."
   ]
  },
  {
   "cell_type": "code",
   "execution_count": 8,
   "metadata": {
    "collapsed": false
   },
   "outputs": [
    {
     "name": "stdout",
     "output_type": "stream",
     "text": [
      "WARNING:tensorflow:From <ipython-input-8-c76488e4794e>:2 in <module>.: initialize_all_variables (from tensorflow.python.ops.variables) is deprecated and will be removed after 2017-03-02.\n",
      "Instructions for updating:\n",
      "Use `tf.global_variables_initializer` instead.\n"
     ]
    }
   ],
   "source": [
    "sess = tf.Session()\n",
    "sess.run(tf.initialize_all_variables())"
   ]
  },
  {
   "cell_type": "markdown",
   "metadata": {},
   "source": [
    "### Evaluating a quantity:\n",
    "\n",
    "We can now ask the session to evaluate any tensor we created. What we need to do however is to create a feed_dict which matches each placeholder with the data we use for our computation.\n",
    "\n",
    "Let's just start by computing the loss corresponding to the current values of A and B with the entire dataset."
   ]
  },
  {
   "cell_type": "code",
   "execution_count": 9,
   "metadata": {
    "collapsed": false
   },
   "outputs": [
    {
     "name": "stdout",
     "output_type": "stream",
     "text": [
      "3505.56\n"
     ]
    }
   ],
   "source": [
    "tot_loss = sess.run(LOSS, feed_dict={X: np.atleast_2d(x).T,\n",
    "                                     Y: np.atleast_2d(y).T})\n",
    "\n",
    "print(tot_loss)"
   ]
  },
  {
   "cell_type": "markdown",
   "metadata": {},
   "source": [
    "We can also compute the corresponding value for the gradient of the loss we created earlier"
   ]
  },
  {
   "cell_type": "code",
   "execution_count": 10,
   "metadata": {
    "collapsed": false
   },
   "outputs": [
    {
     "name": "stdout",
     "output_type": "stream",
     "text": [
      "[-683.01587, -2356.8901]\n"
     ]
    }
   ],
   "source": [
    "loss_grad = sess.run(GRADIENT, feed_dict={X: np.atleast_2d(x).T,\n",
    "                                          Y: np.atleast_2d(y).T})\n",
    "\n",
    "print(loss_grad)"
   ]
  },
  {
   "cell_type": "markdown",
   "metadata": {},
   "source": [
    "And now we can implement gradient descent if we update the values of the variables A and B using the assign operation."
   ]
  },
  {
   "cell_type": "code",
   "execution_count": 11,
   "metadata": {
    "collapsed": false
   },
   "outputs": [
    {
     "name": "stdout",
     "output_type": "stream",
     "text": [
      "Value of A: 0.00, value of B: 0.00:\n",
      "Updated value A: 0.07, updated value of B: 0.24:\n"
     ]
    }
   ],
   "source": [
    "learning_rate = 1e-4\n",
    "\n",
    "print('Value of A: %.2f, value of B: %.2f:' % (sess.run(A), sess.run(B)))\n",
    "\n",
    "sess.run(A.assign(A - learning_rate * loss_grad[0]))\n",
    "sess.run(B.assign(B - learning_rate * loss_grad[1]))\n",
    "\n",
    "print('Updated value A: %.2f, updated value of B: %.2f:' % (sess.run(A), sess.run(B)))"
   ]
  },
  {
   "cell_type": "markdown",
   "metadata": {},
   "source": [
    "If our learning rate is good, we should have a lower loss now if we compute it for updated values of A and B."
   ]
  },
  {
   "cell_type": "code",
   "execution_count": 12,
   "metadata": {
    "collapsed": false
   },
   "outputs": [
    {
     "name": "stdout",
     "output_type": "stream",
     "text": [
      "2932.8\n"
     ]
    }
   ],
   "source": [
    "tot_loss = sess.run(LOSS, feed_dict={X: np.atleast_2d(x).T,\n",
    "                                     Y: np.atleast_2d(y).T})\n",
    "\n",
    "print(tot_loss)"
   ]
  },
  {
   "cell_type": "markdown",
   "metadata": {},
   "source": [
    "## Gradient descent, without having to give the gradient as input!\n",
    "\n",
    "Let's now code again a gradient descent algorithm but this time using Tensorflow's automated differentiation.\n",
    "\n",
    "### YOUR ANSWER HERE"
   ]
  },
  {
   "cell_type": "code",
   "execution_count": 13,
   "metadata": {
    "collapsed": false
   },
   "outputs": [],
   "source": [
    "def gradient_descent(tf_session, learning_rate, \n",
    "                     LOSS_FCT, VARIABLE_LIST,\n",
    "                     feed_dict,\n",
    "                     precision=1e-4, MAX_STEPS=1000):\n",
    "    #    Here we are using all the data set\n",
    "    #    Feed_dict remains constant\n",
    "    #\n",
    "    #    Your code here\n",
    "    #\n",
    "    \n",
    "    #return optimum_variable_values, n_steps, trajectory, losses\n",
    "    \n",
    "    #\n",
    "    #    Answer\n",
    "    #\n",
    "    # Let's first instantiate a gradient\n",
    "    LOSS_GRAD = tf.gradients(LOSS_FCT, VARIABLE_LIST)\n",
    "    \n",
    "    old_loss = tf_session.run(LOSS_FCT, feed_dict=feed_dict)\n",
    "    converged = False\n",
    "    \n",
    "    n_steps = 0\n",
    "    trajectory = [tf_session.run(VARIABLE_LIST)]\n",
    "    losses = []\n",
    "    \n",
    "    while not converged:\n",
    "        n_steps += 1\n",
    "        \n",
    "        gradient = tf_session.run(LOSS_GRAD, feed_dict=feed_dict)\n",
    "        \n",
    "        for i, VARIABLE in enumerate(VARIABLE_LIST):\n",
    "            tf_session.run(VARIABLE.assign(VARIABLE - learning_rate * gradient[i]))\n",
    "            \n",
    "        new_loss = tf_session.run(LOSS_FCT, feed_dict=feed_dict)\n",
    "        converged = np.sum(np.array(gradient)**2) < precision * (1 + np.abs(new_loss))\n",
    "        \n",
    "        old_loss = new_loss\n",
    "        \n",
    "        trajectory.append(tf_session.run(VARIABLE_LIST))\n",
    "        losses.append(old_loss)\n",
    "        \n",
    "        if n_steps > MAX_STEPS:\n",
    "            print('Warning: gradient descent did not converge')\n",
    "            break\n",
    "    \n",
    "    return trajectory[-1], n_steps, trajectory, losses"
   ]
  },
  {
   "cell_type": "markdown",
   "metadata": {},
   "source": [
    "Let's check what the new algorithm gives (warning, this can take a few minutes to run):"
   ]
  },
  {
   "cell_type": "code",
   "execution_count": 14,
   "metadata": {
    "collapsed": false
   },
   "outputs": [
    {
     "name": "stdout",
     "output_type": "stream",
     "text": [
      "Optimum found (2.500, 2.249) in 414 steps of Gradient Descent.\n"
     ]
    },
    {
     "data": {
      "image/png": "[encoded data removed]",
      "text/plain": [
       "<matplotlib.figure.Figure at 0x7f811acccb38>"
      ]
     },
     "metadata": {},
     "output_type": "display_data"
    }
   ],
   "source": [
    "feed_dict={X: np.atleast_2d(x).T, Y: np.atleast_2d(y).T}\n",
    "\n",
    "(a_opt, b_opt), n_steps, trajectory, losses = gradient_descent(sess, 1e-4,\n",
    "                                                               LOSS, [A, B],\n",
    "                                                               feed_dict)\n",
    "sess.close()\n",
    "\n",
    "print('Optimum found (%.3f, %.3f) in %d steps of Gradient Descent.' % (a_opt, b_opt, n_steps))\n",
    "\n",
    "plt.subplot(121)\n",
    "plt.plot([param[0] for param in trajectory], [param[1] for param in trajectory])\n",
    "plt.title('Trajectory')\n",
    "plt.xlabel('a')\n",
    "plt.ylabel('b')\n",
    "\n",
    "plt.subplot(122)\n",
    "plt.plot(losses)\n",
    "plt.title('Loss')\n",
    "plt.xlabel('Iteration')\n",
    "plt.ylabel('Log loss')\n",
    "plt.yscale('log')\n",
    "\n",
    "plt.show()"
   ]
  },
  {
   "cell_type": "markdown",
   "metadata": {},
   "source": [
    "# Solving new machine learning problems quickly\n",
    "\n",
    "One of the key perks of automated differentiation is that we can solve any other optimization problem as long as we are able to instantiate a loss function for it.\n",
    "\n",
    "Let's take for instance a classification data set and solve the corresponding problem with logistic regression."
   ]
  },
  {
   "cell_type": "code",
   "execution_count": 15,
   "metadata": {
    "collapsed": false
   },
   "outputs": [
    {
     "data": {
      "image/png": "[encoded data removed]",
      "text/plain": [
       "<matplotlib.figure.Figure at 0x7f810c08add8>"
      ]
     },
     "metadata": {},
     "output_type": "display_data"
    }
   ],
   "source": [
    "n_samples = 1024\n",
    "x = np.random.normal(0.0, 0.5, n_samples)\n",
    "pr = 1.0 / (1.0 + np.exp(-5.5 * x + 1.5))\n",
    "\n",
    "y = np.random.binomial(1, pr, n_samples)\n",
    "\n",
    "plt.scatter(x, y)\n",
    "plt.xlabel('Regressor')\n",
    "plt.ylabel('Label')\n",
    "plt.show()"
   ]
  },
  {
   "cell_type": "markdown",
   "metadata": {},
   "source": [
    "## Building a new model\n",
    "\n",
    "To build a new model predicting Y based on X, we first build a logit layer trying to capture the linear dependency x -> -5.5 * x + 1.5.\n",
    "\n",
    "We will choose to encode each label as a single integer and not as a one_hot vectors."
   ]
  },
  {
   "cell_type": "markdown",
   "metadata": {},
   "source": [
    "### YOUR ANSWER HERE"
   ]
  },
  {
   "cell_type": "markdown",
   "metadata": {},
   "source": [
    "First, take care of the data and prepare placeholders for it."
   ]
  },
  {
   "cell_type": "code",
   "execution_count": 16,
   "metadata": {
    "collapsed": true
   },
   "outputs": [],
   "source": [
    "## Create a placeholder for the variable X\n",
    "#\n",
    "#    Your code here\n",
    "#\n",
    "\n",
    "#\n",
    "#    Solution\n",
    "#\n",
    "X = tf.placeholder(dtype=tf.float32, shape=[None, 1])\n",
    "\n",
    "## Create a placeholder for the variable Y\n",
    "#\n",
    "#    Your code here\n",
    "#\n",
    "\n",
    "#\n",
    "#    Solution\n",
    "#\n",
    "Y = tf.placeholder(dtype=tf.int32, shape=[None])"
   ]
  },
  {
   "cell_type": "markdown",
   "metadata": {},
   "source": [
    "After that, start building a logit model based on X."
   ]
  },
  {
   "cell_type": "code",
   "execution_count": 17,
   "metadata": {
    "collapsed": false
   },
   "outputs": [],
   "source": [
    "# Create variables that create a linear model with offset with X as a regressor.\n",
    "#\n",
    "#   Your code here\n",
    "#\n",
    "\n",
    "#\n",
    "#    Solution\n",
    "#\n",
    "with tf.variable_scope('logit'):\n",
    "    A = tf.Variable(tf.truncated_normal([1, 2]))\n",
    "    B = tf.Variable(tf.truncated_normal([2]))\n",
    "\n",
    "def build_logit(X):\n",
    "    return tf.matmul(X, A) + B\n",
    "\n",
    "LOGIT = build_logit(X)"
   ]
  },
  {
   "cell_type": "markdown",
   "metadata": {},
   "source": [
    "Finally, instantiate a loss that will compute a cross-entropy loss on top of a softmax layer.\n",
    "https://www.tensorflow.org/api_docs/python/tf/nn/sparse_softmax_cross_entropy_with_logits\n",
    "https://www.tensorflow.org/api_docs/python/tf/reduce_mean"
   ]
  },
  {
   "cell_type": "code",
   "execution_count": 18,
   "metadata": {
    "collapsed": false
   },
   "outputs": [],
   "source": [
    "# Create a LOSS function linking the actual labels in Y to the logit layer\n",
    "#\n",
    "# Your code here\n",
    "#\n",
    "\n",
    "#\n",
    "# Solution\n",
    "#\n",
    "LOSS = tf.reduce_mean(tf.nn.sparse_softmax_cross_entropy_with_logits(labels=Y, logits=LOGIT))"
   ]
  },
  {
   "cell_type": "markdown",
   "metadata": {},
   "source": [
    "Although the gradient descent operates on the loss (and for now we don't split the data in train / test sets), the cross entropy loss score is not very readible. It is generally better to check at the same time the accuracy of the classifier based on the logits."
   ]
  },
  {
   "cell_type": "code",
   "execution_count": 19,
   "metadata": {
    "collapsed": false
   },
   "outputs": [],
   "source": [
    "# Create an ACCURACY tensor\n",
    "#\n",
    "# Your code here\n",
    "#\n",
    "\n",
    "#\n",
    "# Solution\n",
    "#\n",
    "ACCURACY = tf.reduce_mean(tf.cast(tf.nn.in_top_k(LOGIT, Y, 1), tf.float32))"
   ]
  },
  {
   "cell_type": "markdown",
   "metadata": {},
   "source": [
    "Now lets slighy modify our gradient function so as to keep track of the values for the accuarcy.\n",
    "To simplify the stopping criterion we now stop after MAX_STEPS steps of gradient descent."
   ]
  },
  {
   "cell_type": "code",
   "execution_count": 23,
   "metadata": {
    "collapsed": true
   },
   "outputs": [],
   "source": [
    "def gradient_descent_with_eval(tf_session, learning_rate, \n",
    "                               LOSS_FCT, VARIABLE_LIST, EVAL_FCT,\n",
    "                               feed_dict,\n",
    "                               MAX_STEPS=200):\n",
    "    #    Here we are using all the data set\n",
    "    #    Feed_dict remains constant\n",
    "    #\n",
    "    #    Your code here\n",
    "    #\n",
    "    \n",
    "    #return optimum_variable_values, trajectory, losses, accuracies\n",
    "    \n",
    "    #\n",
    "    #    Answer\n",
    "    #\n",
    "    # Let's first instantiate a gradient\n",
    "    LOSS_GRAD = tf.gradients(LOSS_FCT, VARIABLE_LIST)\n",
    "    \n",
    "    (old_loss, old_accuracy) = tf_session.run((LOSS_FCT, EVAL_FCT), feed_dict=feed_dict)\n",
    "    converged = False\n",
    "    \n",
    "    trajectory = [tf_session.run(VARIABLE_LIST)]\n",
    "    losses = []\n",
    "    accuracies = []\n",
    "    \n",
    "    for step in range(MAX_STEPS):\n",
    "        \n",
    "        gradient = tf_session.run(LOSS_GRAD, feed_dict=feed_dict)\n",
    "        \n",
    "        for i, VARIABLE in enumerate(VARIABLE_LIST):\n",
    "            tf_session.run(VARIABLE.assign(VARIABLE - learning_rate * gradient[i]))\n",
    "            \n",
    "        (new_loss, new_accuracy) = tf_session.run((LOSS_FCT, EVAL_FCT), feed_dict=feed_dict)\n",
    "        \n",
    "        old_loss = new_loss\n",
    "        old_accuracy = new_accuracy\n",
    "        \n",
    "        trajectory.append(tf_session.run(VARIABLE_LIST))\n",
    "        losses.append(old_loss)\n",
    "        accuracies.append(old_accuracy)\n",
    "    \n",
    "    return trajectory[-1], trajectory, losses, accuracies"
   ]
  },
  {
   "cell_type": "markdown",
   "metadata": {},
   "source": [
    "And run it on the new data set."
   ]
  },
  {
   "cell_type": "code",
   "execution_count": 24,
   "metadata": {
    "collapsed": false
   },
   "outputs": [
    {
     "name": "stdout",
     "output_type": "stream",
     "text": [
      "WARNING:tensorflow:From <ipython-input-24-46b7601a58ba>:2 in <module>.: initialize_all_variables (from tensorflow.python.ops.variables) is deprecated and will be removed after 2017-03-02.\n",
      "Instructions for updating:\n",
      "Use `tf.global_variables_initializer` instead.\n",
      "Optimum found in 414 steps of Gradient Descent.\n"
     ]
    },
    {
     "data": {
      "image/png": "[encoded data removed]",
      "text/plain": [
       "<matplotlib.figure.Figure at 0x7f80e7d932b0>"
      ]
     },
     "metadata": {},
     "output_type": "display_data"
    }
   ],
   "source": [
    "sess = tf.Session()\n",
    "sess.run(tf.initialize_all_variables())\n",
    "\n",
    "feed_dict={X: np.atleast_2d(x).T, Y: np.asarray(y, dtype=np.int32)}\n",
    "\n",
    "_, trajectory, losses, accuracies = gradient_descent_with_eval(sess, 1e-1,\n",
    "                                                               LOSS, [A, B], ACCURACY,\n",
    "                                                               feed_dict)\n",
    "sess.close()\n",
    "\n",
    "print('Optimum found in %d steps of Gradient Descent.' % n_steps)\n",
    "\n",
    "plt.subplot(121)\n",
    "plt.plot(losses)\n",
    "plt.title('Loss')\n",
    "plt.xlabel('Iteration')\n",
    "plt.ylabel('Log loss')\n",
    "plt.yscale('log')\n",
    "\n",
    "plt.subplot(122)\n",
    "plt.plot(accuracies)\n",
    "plt.title('Accuracy')\n",
    "plt.xlabel('Iteration')\n",
    "plt.ylabel('Accuracy')\n",
    "\n",
    "plt.show()"
   ]
  },
  {
   "cell_type": "markdown",
   "metadata": {},
   "source": [
    "### YOUR ANSWERS HERE\n",
    "\n",
    "a) What do notice about the run-time?\n",
    "\n",
    "### Solution:\n",
    "\n",
    "a) It's slow... and we waste a lot of time computing early iterations for which we do not really need a precise estimate of the gradient."
   ]
  },
  {
   "cell_type": "markdown",
   "metadata": {},
   "source": [
    "# Automated differentiation for Stochastic Gradient Descent\n",
    "\n",
    "Although it makes our life slightly easier because we do not have to compute gradients, automated differentiation has another perk: it can compute the gradient of the loss with respect to the model parameters as we choose different parts of our dataset to compute the loss.\n",
    "\n",
    "Namely, we can now directly change what we assign in the placholders by controlling our feed_dict and run SGD for a certain batch_size (the number of elements we consider simultanously).\n",
    "\n",
    "SGD is particularly helpful as it can speed up the training as we do not waste the time taken by looking at all the dataset in the early steps of the descent where our parameters are rubish anyway.\n",
    "\n",
    "### YOUR ANSWER HERE"
   ]
  },
  {
   "cell_type": "code",
   "execution_count": 25,
   "metadata": {
    "collapsed": true
   },
   "outputs": [],
   "source": [
    "# Write a function that returns batch_size samples of (x, y) pairs chosen from the logistic regression data set.\n",
    "# Don't forget to shuffle your data first.\n",
    "#\n",
    "# Your code here for the shuffling\n",
    "#\n",
    "\n",
    "#\n",
    "# Solution\n",
    "#\n",
    "permutation = np.random.choice(np.arange(n_samples), n_samples)\n",
    "x = x[permutation]\n",
    "y = y[permutation]\n",
    "\n",
    "def get_next_batch(batch_size, offset):\n",
    "    #\n",
    "    # Your code here that builds a batch of samples\n",
    "    #\n",
    "    \n",
    "    #\n",
    "    # Solution\n",
    "    #\n",
    "    selection = np.arange(offset, offset + batch_size) % n_samples\n",
    "    return x[selection], y[selection]"
   ]
  },
  {
   "cell_type": "markdown",
   "metadata": {},
   "source": [
    "Now, we have all the ingredients we need to code SGD on top of tensorflow.\n",
    "\n",
    "In this tutorial we will only evaluate the accuracy on the batch we are computing the gradient with.\n",
    "\n",
    "However, it is better to evaluate the accuracy on an independent test set that comprises of many more samples than there are in a single batch."
   ]
  },
  {
   "cell_type": "code",
   "execution_count": 29,
   "metadata": {
    "collapsed": true
   },
   "outputs": [],
   "source": [
    "def stochastic_gradient_descent(tf_session, learning_rate, batch_size, \n",
    "                                LOSS_FCT, VARIABLE_LIST, EVAL_FCT,\n",
    "                                next_batch_fct,\n",
    "                                MAX_STEPS=200):\n",
    "    #\n",
    "    #    next_batch_fct takes batch_size and offset as argument and returns two numpy arrays, one for x, one for y.\n",
    "    #\n",
    "    #    Your code here\n",
    "    #\n",
    "    \n",
    "    #return optimum_variable_values, trajectory, losses, accuracies\n",
    "    \n",
    "    #\n",
    "    #    Answer\n",
    "    #\n",
    "    # Let's first instantiate a gradient\n",
    "    LOSS_GRAD = tf.gradients(LOSS_FCT, VARIABLE_LIST)\n",
    "    \n",
    "    x_samples, y_samples = next_batch_fct(0, batch_size)\n",
    "    feed_dict={X: np.atleast_2d(x_samples).T, Y: np.asarray(y_samples, dtype=np.int32)}\n",
    "    (old_loss, old_accuracy) = tf_session.run((LOSS_FCT, EVAL_FCT), feed_dict=feed_dict)\n",
    "    converged = False\n",
    "    \n",
    "    trajectory = [tf_session.run(VARIABLE_LIST)]\n",
    "    losses = []\n",
    "    accuracies = []\n",
    "    \n",
    "    for step in range(MAX_STEPS):\n",
    "        x_samples, y_samples = next_batch_fct(step, batch_size)\n",
    "        feed_dict={X: np.atleast_2d(x_samples).T, Y: np.asarray(y_samples, dtype=np.int32)}\n",
    "        \n",
    "        gradient = tf_session.run(LOSS_GRAD, feed_dict=feed_dict)\n",
    "        \n",
    "        for i, VARIABLE in enumerate(VARIABLE_LIST):\n",
    "            tf_session.run(VARIABLE.assign(VARIABLE - learning_rate * gradient[i]))\n",
    "            \n",
    "        (new_loss, new_accuracy) = tf_session.run((LOSS_FCT, EVAL_FCT), feed_dict=feed_dict)\n",
    "        \n",
    "        old_loss = new_loss\n",
    "        old_accuracy = new_accuracy\n",
    "        \n",
    "        trajectory.append(tf_session.run(VARIABLE_LIST))\n",
    "        losses.append(old_loss)\n",
    "        accuracies.append(old_accuracy)\n",
    "        \n",
    "    return trajectory[-1], trajectory, losses, accuracies"
   ]
  },
  {
   "cell_type": "markdown",
   "metadata": {},
   "source": [
    "And we can run this algorithm to solve our logistic regression."
   ]
  },
  {
   "cell_type": "code",
   "execution_count": 30,
   "metadata": {
    "collapsed": false
   },
   "outputs": [
    {
     "name": "stdout",
     "output_type": "stream",
     "text": [
      "WARNING:tensorflow:From <ipython-input-30-65a4d42ee7c8>:2 in <module>.: initialize_all_variables (from tensorflow.python.ops.variables) is deprecated and will be removed after 2017-03-02.\n",
      "Instructions for updating:\n",
      "Use `tf.global_variables_initializer` instead.\n",
      "Optimum found in 414 steps of Gradient Descent.\n"
     ]
    },
    {
     "data": {
      "image/png": "[encoded data removed]",
      "text/plain": [
       "<matplotlib.figure.Figure at 0x7f80e748cda0>"
      ]
     },
     "metadata": {},
     "output_type": "display_data"
    }
   ],
   "source": [
    "sess = tf.Session()\n",
    "sess.run(tf.initialize_all_variables())\n",
    "\n",
    "_, trajectory, losses, accuracies = stochastic_gradient_descent(sess, 1e-1, 8,\n",
    "                                                                LOSS, [A, B], ACCURACY,\n",
    "                                                                get_next_batch)\n",
    "sess.close()\n",
    "\n",
    "print('Optimum found in %d steps of Gradient Descent.' % n_steps)\n",
    "\n",
    "plt.subplot(121)\n",
    "plt.plot(losses)\n",
    "plt.title('Loss')\n",
    "plt.xlabel('Iteration')\n",
    "plt.ylabel('Log loss')\n",
    "plt.yscale('log')\n",
    "\n",
    "plt.subplot(122)\n",
    "plt.plot(accuracies)\n",
    "plt.title('Accuracy')\n",
    "plt.xlabel('Iteration')\n",
    "plt.ylabel('Accuracy')\n",
    "\n",
    "plt.show()"
   ]
  },
  {
   "cell_type": "markdown",
   "metadata": {},
   "source": [
    "Normally, this should run faster now, each iteration being faster.\n",
    "\n",
    "### YOUR ANSWER HERE\n",
    "\n",
    "a) Do we actually achieve faster training systematically?\n",
    "b) We used a constant learning rate here, is this a good idea?\n",
    "\n",
    "### Solution:\n",
    "\n",
    "a) Each iteration is quicker but less exact, therefore there is a tradeoff here.\n",
    "b) We should use a linear decaying learning rate that sums to infinity but has a finite sum of squares such as 1 / (1 + t)."
   ]
  },
  {
   "cell_type": "code",
   "execution_count": null,
   "metadata": {
    "collapsed": true
   },
   "outputs": [],
   "source": []
  }
 ],
 "metadata": {
  "kernelspec": {
   "display_name": "Python 3",
   "language": "python",
   "name": "python3"
  },
  "language_info": {
   "codemirror_mode": {
    "name": "ipython",
    "version": 3
   },
   "file_extension": ".py",
   "mimetype": "text/x-python",
   "name": "python",
   "nbconvert_exporter": "python",
   "pygments_lexer": "ipython3",
   "version": "3.5.2"
  },
  "widgets": {
   "state": {},
   "version": "1.1.2"
  }
 },
 "nbformat": 4,
 "nbformat_minor": 1
}
