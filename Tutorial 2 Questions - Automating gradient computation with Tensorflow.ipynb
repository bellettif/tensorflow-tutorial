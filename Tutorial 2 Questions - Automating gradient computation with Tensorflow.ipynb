{
 "cells": [
  {
   "cell_type": "markdown",
   "metadata": {},
   "source": [
    "# Automating gradient computation with Tensorflow"
   ]
  },
  {
   "cell_type": "code",
   "execution_count": 1,
   "metadata": {
    "collapsed": false
   },
   "outputs": [],
   "source": [
    "import tensorflow as tf\n",
    "import numpy as np\n",
    "import matplotlib.pyplot as plt\n",
    "%matplotlib inline"
   ]
  },
  {
   "cell_type": "markdown",
   "metadata": {},
   "source": [
    "Let's use a somewhat more involved machinery to automate gradient computation!\n",
    "\n",
    "First of all, to get a short introduction that will be used for automated differentiation in this tutorial, visit:\n",
    "https://www.tensorflow.org/get_started/get_started."
   ]
  },
  {
   "cell_type": "code",
   "execution_count": 2,
   "metadata": {
    "collapsed": false
   },
   "outputs": [
    {
     "data": {
      "image/png": "[encoded data removed]",
      "text/plain": [
       "<matplotlib.figure.Figure at 0x1124a19d0>"
      ]
     },
     "metadata": {},
     "output_type": "display_data"
    }
   ],
   "source": [
    "def plot_img_from_url(url):\n",
    "    from PIL import Image\n",
    "    import cStringIO\n",
    "    import urllib2\n",
    "    im = Image.open(cStringIO.StringIO(urllib2.urlopen(url).read()))\n",
    "    plt.imshow(im, origin='upper')\n",
    "    plt.axis('off')\n",
    "    \n",
    "plot_img_from_url('https://www.tensorflow.org/_static/images/tensorflow/logo.png')"
   ]
  },
  {
   "cell_type": "markdown",
   "metadata": {},
   "source": [
    "## Least squares"
   ]
  },
  {
   "cell_type": "markdown",
   "metadata": {},
   "source": [
    "Let's generate some data corresponding to a linear regression problem."
   ]
  },
  {
   "cell_type": "code",
   "execution_count": 3,
   "metadata": {
    "collapsed": false
   },
   "outputs": [],
   "source": [
    "n_samples = 1024\n",
    "x = np.random.normal(0.0, 0.5, n_samples)\n",
    "y = 2.5 * x + 2.25 + np.random.normal(0.0, 0.05, n_samples)"
   ]
  },
  {
   "cell_type": "markdown",
   "metadata": {
    "collapsed": false
   },
   "source": [
    "## Gradient Descent\n",
    "\n",
    "As in tutorial 1, we are about to solve the estimation of a * x + b minimizing the squared loss of error with respect to y.\n",
    "\n",
    "This time however, we are going to build the flow computations linking the data (observatoins of x and y) to the loss and let Tensorflow compute the corresponding loss gradient automatically.\n",
    "\n",
    "## In this tutorial, an in this tutorial only, we will mimic the usual matematical notation of variables in upper case and their realization in lower case."
   ]
  },
  {
   "cell_type": "markdown",
   "metadata": {},
   "source": [
    "### Placeholders:\n",
    "\n",
    "The first thing to build is the pair of buckets that will hold the data for x and the data for y. At a given step of our stochastic gradient descent, we will only take batch_size elements into account."
   ]
  },
  {
   "cell_type": "code",
   "execution_count": 4,
   "metadata": {
    "collapsed": false
   },
   "outputs": [],
   "source": [
    "# Let's build a placeholder for the regressor:\n",
    "X = tf.placeholder(shape=(None, 1), dtype=tf.float32)\n",
    "# This is ready to welcome an numpy array of the same shape\n",
    "# when we choose to assign value to the placholder.\n",
    "\n",
    "# Let's do the same thing for the predicted variable:\n",
    "Y = tf.placeholder(shape=(None, 1), dtype=tf.float32)\n",
    "\n",
    "# A shape of None is adaptive and this dimension corresponds to the size of the batch\n",
    "# We may want to change the size of the batch of data without having to re-instantiate\n",
    "# the placeholders."
   ]
  },
  {
   "cell_type": "markdown",
   "metadata": {},
   "source": [
    "### Variables:\n",
    "\n",
    "In the linear regression model we consider there are only two variables: the slope A and the offset B. Let's instantiate them and apply the model to the regressor X."
   ]
  },
  {
   "cell_type": "code",
   "execution_count": 5,
   "metadata": {
    "collapsed": false
   },
   "outputs": [],
   "source": [
    "with tf.variable_scope('linear_prediction'):\n",
    "    shape = [] # Shape [] means that we're using a scalar variable\n",
    "    A = tf.Variable(tf.zeros(shape)) \n",
    "    B = tf.Variable(tf.zeros(shape))\n",
    "\n",
    "def build_linear_predictor(X):\n",
    "    \"\"\"\n",
    "    Build an operation that predicts lineary with X as a regressor.\n",
    "    :param X (tensor): Values the prediction is based on.\n",
    "    :return (tensor): Degree 1 polynom in X with offset B and slope A.\n",
    "    \"\"\"\n",
    "    return A * X + B\n",
    "\n",
    "Y_PREDICTED = build_linear_predictor(X)"
   ]
  },
  {
   "cell_type": "markdown",
   "metadata": {},
   "source": [
    "### Loss:\n",
    "\n",
    "Now let's create a loss function encouraging the predicted value for Y to be close to the observations."
   ]
  },
  {
   "cell_type": "code",
   "execution_count": 6,
   "metadata": {
    "collapsed": true
   },
   "outputs": [],
   "source": [
    "LOSS = tf.nn.l2_loss(Y_PREDICTED - Y)"
   ]
  },
  {
   "cell_type": "markdown",
   "metadata": {},
   "source": [
    "### Computing a gradient:\n",
    "\n",
    "Tensorflow is a symbol to symbol automated differentiation engine. Before we can evaluate the gradient for LOSS, we need to instantiate it."
   ]
  },
  {
   "cell_type": "code",
   "execution_count": 7,
   "metadata": {
    "collapsed": false
   },
   "outputs": [],
   "source": [
    "GRADIENT = tf.gradients(LOSS, [A, B])"
   ]
  },
  {
   "cell_type": "markdown",
   "metadata": {},
   "source": [
    "### Creating a session:\n",
    "\n",
    "Now that we have created the symbols of the computation flow, including the gradient which is our quantity of interest here, we need to create a session that will enable the computation of numerical quantities such as the value of LOSS for a particular choice of input for X and Y.\n",
    "\n",
    "A session also keeps in memory the state of variables which we will update as we improve our model."
   ]
  },
  {
   "cell_type": "code",
   "execution_count": 8,
   "metadata": {
    "collapsed": false
   },
   "outputs": [
    {
     "ename": "AttributeError",
     "evalue": "'module' object has no attribute 'global_variable_initializer'",
     "output_type": "error",
     "traceback": [
      "\u001b[0;31m---------------------------------------------------------------------------\u001b[0m",
      "\u001b[0;31mAttributeError\u001b[0m                            Traceback (most recent call last)",
      "\u001b[0;32m<ipython-input-8-46605fffaa51>\u001b[0m in \u001b[0;36m<module>\u001b[0;34m()\u001b[0m\n\u001b[1;32m      1\u001b[0m \u001b[0msess\u001b[0m \u001b[0;34m=\u001b[0m \u001b[0mtf\u001b[0m\u001b[0;34m.\u001b[0m\u001b[0mSession\u001b[0m\u001b[0;34m(\u001b[0m\u001b[0;34m)\u001b[0m\u001b[0;34m\u001b[0m\u001b[0m\n\u001b[0;32m----> 2\u001b[0;31m \u001b[0msess\u001b[0m\u001b[0;34m.\u001b[0m\u001b[0mrun\u001b[0m\u001b[0;34m(\u001b[0m\u001b[0mtf\u001b[0m\u001b[0;34m.\u001b[0m\u001b[0mglobal_variable_initializer\u001b[0m\u001b[0;34m(\u001b[0m\u001b[0;34m)\u001b[0m\u001b[0;34m)\u001b[0m\u001b[0;34m\u001b[0m\u001b[0m\n\u001b[0m",
      "\u001b[0;31mAttributeError\u001b[0m: 'module' object has no attribute 'global_variable_initializer'"
     ]
    }
   ],
   "source": [
    "sess = tf.Session()\n",
    "sess.run(tf.global_variable_initializer())"
   ]
  },
  {
   "cell_type": "markdown",
   "metadata": {},
   "source": [
    "### Evaluating a quantity:\n",
    "\n",
    "We can now ask the session to evaluate any tensor we created. What we need to do however is to create a feed_dict which matches each placeholder with the data we use for our computation.\n",
    "\n",
    "Let's just start by computing the loss corresponding to the current values of A and B with the entire dataset."
   ]
  },
  {
   "cell_type": "code",
   "execution_count": null,
   "metadata": {
    "collapsed": false
   },
   "outputs": [],
   "source": [
    "tot_loss = sess.run(LOSS, feed_dict={X: np.atleast_2d(x).T,\n",
    "                                     Y: np.atleast_2d(y).T})\n",
    "\n",
    "print(tot_loss)"
   ]
  },
  {
   "cell_type": "markdown",
   "metadata": {},
   "source": [
    "We can also compute the corresponding value for the gradient of the loss we created earlier"
   ]
  },
  {
   "cell_type": "code",
   "execution_count": null,
   "metadata": {
    "collapsed": false
   },
   "outputs": [],
   "source": [
    "loss_grad = sess.run(GRADIENT, feed_dict={X: np.atleast_2d(x).T,\n",
    "                                          Y: np.atleast_2d(y).T})\n",
    "\n",
    "print(loss_grad)"
   ]
  },
  {
   "cell_type": "markdown",
   "metadata": {},
   "source": [
    "And now we can implement gradient descent if we update the values of the variables A and B using the assign operation."
   ]
  },
  {
   "cell_type": "code",
   "execution_count": null,
   "metadata": {
    "collapsed": false
   },
   "outputs": [],
   "source": [
    "learning_rate = 1e-4\n",
    "\n",
    "print('Value of A: %.2f, value of B: %.2f:' % (sess.run(A), sess.run(B)))\n",
    "\n",
    "sess.run(A.assign(A - learning_rate * loss_grad[0]))\n",
    "sess.run(B.assign(B - learning_rate * loss_grad[1]))\n",
    "\n",
    "print('Updated value A: %.2f, updated value of B: %.2f:' % (sess.run(A), sess.run(B)))"
   ]
  },
  {
   "cell_type": "markdown",
   "metadata": {},
   "source": [
    "If our learning rate is good, we should have a lower loss now if we compute it for updated values of A and B."
   ]
  },
  {
   "cell_type": "code",
   "execution_count": null,
   "metadata": {
    "collapsed": false
   },
   "outputs": [],
   "source": [
    "tot_loss = sess.run(LOSS, feed_dict={X: np.atleast_2d(x).T,\n",
    "                                     Y: np.atleast_2d(y).T})\n",
    "\n",
    "print(tot_loss)"
   ]
  },
  {
   "cell_type": "markdown",
   "metadata": {},
   "source": [
    "## Gradient descent, without having to give the gradient as input!\n",
    "\n",
    "Let's now code again a gradient descent algorithm but this time using Tensorflow's automated differentiation.\n",
    "\n",
    "### YOUR ANSWER HERE"
   ]
  },
  {
   "cell_type": "code",
   "execution_count": null,
   "metadata": {
    "collapsed": false
   },
   "outputs": [],
   "source": [
    "def gradient_descent(tf_session, learning_rate, \n",
    "                     LOSS_FCT, VARIABLE_LIST,\n",
    "                     feed_dict,\n",
    "                     precision=1e-4, MAX_STEPS=1000):\n",
    "    \"\"\"\n",
    "    Gradient descent using tensorflow to compute the gradient of LOSS_FCT w.r.t the variables in VARIABLE_LIST.\n",
    "    Here we are using all the data set. Feed_dict remains constant.\n",
    "    :param tf_session (Tensorflow session): session that will be used to memorize and evaluate.\n",
    "    :param learning_rate (scalar): learning rate use in the gradient descent algorithm.\n",
    "    :param LOSS_FCT (tensor): function used to measure the loss of the model we want to minimize.\n",
    "    :param VARIABLE_LIST ([tf.Variables]): list of variables w.r.t. which the gradient is computed.\n",
    "    :param feed_dict (dictionary): dictionary of {placeholder : numpy array}.\n",
    "    :param precision (scalar): desired precision.\n",
    "    :param MAX_STEPS (int): maximum number of steps allowed to prevent an infinite loop.\n",
    "    :returns ((list, int, list, list)):\n",
    "        - First element (list of arrays or scalars): optimal values found for the variables of the model.\n",
    "        - Second element (int): number of steps needed to converge.\n",
    "        - Third element (list of lists of arrays or scalars): recorded values for the variables of the model.\n",
    "        - Fourth element (list of scalars): recorded values for the loss function.\n",
    "    \"\"\"\n",
    "    #    \n",
    "    #\n",
    "    #    Your code here\n",
    "    #\n",
    "    \n",
    "    #return optimum_variable_values, n_steps, trajectory, losses"
   ]
  },
  {
   "cell_type": "markdown",
   "metadata": {},
   "source": [
    "Let's check what the new algorithm gives (warning, this can take a few minutes to run):"
   ]
  },
  {
   "cell_type": "code",
   "execution_count": null,
   "metadata": {
    "collapsed": false
   },
   "outputs": [],
   "source": [
    "feed_dict={X: np.atleast_2d(x).T, Y: np.atleast_2d(y).T}\n",
    "\n",
    "(a_opt, b_opt), n_steps, trajectory, losses = gradient_descent(sess, 1e-4,\n",
    "                                                               LOSS, [A, B],\n",
    "                                                               feed_dict)\n",
    "sess.close()\n",
    "\n",
    "print('Optimum found (%.3f, %.3f) in %d steps of Gradient Descent.' % (a_opt, b_opt, n_steps))\n",
    "\n",
    "plt.subplot(121)\n",
    "plt.plot([param[0] for param in trajectory], [param[1] for param in trajectory])\n",
    "plt.title('Trajectory')\n",
    "plt.xlabel('a')\n",
    "plt.ylabel('b')\n",
    "\n",
    "plt.subplot(122)\n",
    "plt.plot(losses)\n",
    "plt.title('Loss')\n",
    "plt.xlabel('Iteration')\n",
    "plt.ylabel('Log loss')\n",
    "plt.yscale('log')\n",
    "\n",
    "plt.show()"
   ]
  },
  {
   "cell_type": "markdown",
   "metadata": {},
   "source": [
    "# Solving new machine learning problems quickly\n",
    "\n",
    "One of the key perks of automated differentiation is that we can solve any other optimization problem as long as we are able to instantiate a loss function for it.\n",
    "\n",
    "Let's take for instance a classification data set and solve the corresponding problem with logistic regression."
   ]
  },
  {
   "cell_type": "code",
   "execution_count": null,
   "metadata": {
    "collapsed": false
   },
   "outputs": [],
   "source": [
    "n_samples = 1024\n",
    "x = np.random.normal(0.0, 0.5, n_samples)\n",
    "pr = 1.0 / (1.0 + np.exp(-5.5 * x + 1.5))\n",
    "\n",
    "y = np.random.binomial(1, pr, n_samples)\n",
    "\n",
    "plt.scatter(x, y)\n",
    "plt.xlabel('Regressor')\n",
    "plt.ylabel('Label')\n",
    "plt.show()"
   ]
  },
  {
   "cell_type": "markdown",
   "metadata": {},
   "source": [
    "## Building a new model\n",
    "\n",
    "To build a new model predicting Y based on X, we first build a logit layer trying to capture the linear dependency x -> -5.5 * x + 1.5.\n",
    "\n",
    "We will choose to encode each label as a single integer and not as a one_hot vectors."
   ]
  },
  {
   "cell_type": "markdown",
   "metadata": {},
   "source": [
    "### YOUR ANSWER HERE"
   ]
  },
  {
   "cell_type": "markdown",
   "metadata": {},
   "source": [
    "First, take care of the data and prepare placeholders for it."
   ]
  },
  {
   "cell_type": "code",
   "execution_count": null,
   "metadata": {
    "collapsed": true
   },
   "outputs": [],
   "source": [
    "## Create a placeholder for the variable X\n",
    "#\n",
    "#    Your code here\n",
    "#\n",
    "\n",
    "## Create a placeholder for the variable Y\n",
    "#\n",
    "#    Your code here\n",
    "#"
   ]
  },
  {
   "cell_type": "markdown",
   "metadata": {},
   "source": [
    "After that, start building a logit model based on X."
   ]
  },
  {
   "cell_type": "code",
   "execution_count": null,
   "metadata": {
    "collapsed": false
   },
   "outputs": [],
   "source": [
    "# Create variables that create a linear model with offset with X as a regressor.\n",
    "#\n",
    "#   Your code here\n",
    "#\n",
    "\n",
    "LOGIT = "
   ]
  },
  {
   "cell_type": "markdown",
   "metadata": {},
   "source": [
    "Finally, instantiate a loss that will compute a cross-entropy loss on top of a softmax layer.\n",
    "https://www.tensorflow.org/api_docs/python/tf/nn/sparse_softmax_cross_entropy_with_logits\n",
    "https://www.tensorflow.org/api_docs/python/tf/reduce_mean"
   ]
  },
  {
   "cell_type": "code",
   "execution_count": null,
   "metadata": {
    "collapsed": false
   },
   "outputs": [],
   "source": [
    "# Create a LOSS function linking the actual labels in Y to the logit layer\n",
    "#\n",
    "# Your code here\n",
    "#\n",
    "\n",
    "LOSS = "
   ]
  },
  {
   "cell_type": "markdown",
   "metadata": {},
   "source": [
    "Although the gradient descent operates on the loss (and for now we don't split the data in train / test sets), the cross entropy loss score is not very readible. It is generally better to check at the same time the accuracy of the classifier based on the logits."
   ]
  },
  {
   "cell_type": "code",
   "execution_count": null,
   "metadata": {
    "collapsed": false
   },
   "outputs": [],
   "source": [
    "# Create an ACCURACY tensor\n",
    "#\n",
    "# Your code here\n",
    "#\n",
    "\n",
    "ACCURACY = "
   ]
  },
  {
   "cell_type": "markdown",
   "metadata": {},
   "source": [
    "Now lets slighy modify our gradient function so as to keep track of the values for the accuarcy.\n",
    "To simplify the stopping criterion we now stop after MAX_STEPS steps of gradient descent."
   ]
  },
  {
   "cell_type": "code",
   "execution_count": null,
   "metadata": {
    "collapsed": true
   },
   "outputs": [],
   "source": [
    "def gradient_descent_with_eval(tf_session, learning_rate, \n",
    "                               LOSS_FCT, VARIABLE_LIST, EVAL_FCT,\n",
    "                               feed_dict,\n",
    "                               MAX_STEPS=200):\n",
    "    \"\"\"\n",
    "    Gradient descent using tensorflow to compute the gradient of LOSS_FCT w.r.t the variables in VARIABLE_LIST.\n",
    "    Here we are using all the data set. Feed_dict remains constant.\n",
    "    :param tf_session (Tensorflow session): session that will be used to memorize and evaluate.\n",
    "    :param learning_rate (scalar): learning rate use in the gradient descent algorithm.\n",
    "    :param LOSS_FCT (tensor): function used to measure the loss of the model we want to minimize.\n",
    "    :param VARIABLE_LIST ([tf.Variables]): list of variables w.r.t. which the gradient is computed.\n",
    "    :param EVAL_FCT (tensor): function used to measure the performance of the model we want to minimize.\n",
    "    :param feed_dict (dictionary): dictionary of {placeholder : numpy array}.\n",
    "    :param MAX_STEPS (int): maximum number of steps allowed to prevent an infinite loop.\n",
    "    :returns ((list, list, list, list)):\n",
    "        - First element (list of arrays or scalars): optimal values found for the variables of the model.\n",
    "        - Second element (list of lists of arrays or scalars): recorded values for the variables of the model.\n",
    "        - Third element (list of scalars): recorded values for the loss function.\n",
    "        - Fourth element (list of scalars): recorded values for the evaluation function.\n",
    "    \"\"\"\n",
    "    #\n",
    "    #    Your code here\n",
    "    #\n",
    "    \n",
    "    #return optimum_variable_values, trajectory, losses, accuracies"
   ]
  },
  {
   "cell_type": "markdown",
   "metadata": {},
   "source": [
    "And run it on the new data set."
   ]
  },
  {
   "cell_type": "code",
   "execution_count": null,
   "metadata": {
    "collapsed": false
   },
   "outputs": [],
   "source": [
    "sess = tf.Session()\n",
    "sess.run(tf.global_variables_initializer())\n",
    "\n",
    "feed_dict={X: np.atleast_2d(x).T, Y: np.asarray(y, dtype=np.int32)}\n",
    "\n",
    "_, trajectory, losses, accuracies = gradient_descent_with_eval(sess, 1e-1,\n",
    "                                                               LOSS, [A, B], ACCURACY,\n",
    "                                                               feed_dict)\n",
    "sess.close()\n",
    "\n",
    "print('Optimum found in %d steps of Gradient Descent.' % n_steps)\n",
    "\n",
    "plt.subplot(121)\n",
    "plt.plot(losses)\n",
    "plt.title('Loss')\n",
    "plt.xlabel('Iteration')\n",
    "plt.ylabel('Log loss')\n",
    "plt.yscale('log')\n",
    "\n",
    "plt.subplot(122)\n",
    "plt.plot(accuracies)\n",
    "plt.title('Accuracy')\n",
    "plt.xlabel('Iteration')\n",
    "plt.ylabel('Accuracy')\n",
    "\n",
    "plt.show()"
   ]
  },
  {
   "cell_type": "markdown",
   "metadata": {},
   "source": [
    "### YOUR ANSWERS HERE\n",
    "\n",
    "a) What do notice about the run-time?\n",
    "\n",
    "### Solution:\n",
    "\n",
    "a) It's slow... and we waste a lot of time computing early iterations for which we do not really need a precise estimate of the gradient."
   ]
  },
  {
   "cell_type": "markdown",
   "metadata": {},
   "source": [
    "# Automated differentiation for Stochastic Gradient Descent\n",
    "\n",
    "Although it makes our life slightly easier because we do not have to compute gradients, automated differentiation has another perk: it can compute the gradient of the loss with respect to the model parameters as we choose different parts of our dataset to compute the loss.\n",
    "\n",
    "Namely, we can now directly change what we assign in the placholders by controlling our feed_dict and run SGD for a certain batch_size (the number of elements we consider simultanously).\n",
    "\n",
    "SGD is particularly helpful as it can speed up the training as we do not waste the time taken by looking at all the dataset in the early steps of the descent where our parameters are rubish anyway.\n",
    "\n",
    "### YOUR ANSWER HERE"
   ]
  },
  {
   "cell_type": "code",
   "execution_count": null,
   "metadata": {
    "collapsed": true
   },
   "outputs": [],
   "source": [
    "# Write a function that returns batch_size samples of (x, y) pairs chosen from the logistic regression data set.\n",
    "# Don't forget to shuffle your data first.\n",
    "#\n",
    "# Your code here for the shuffling\n",
    "#\n",
    "\n",
    "permutation = \n",
    "\n",
    "def get_next_batch(batch_size, offset):\n",
    "    \"\"\"\n",
    "    Collect batch_size samples from the data set starting at offset.\n",
    "    Wrap if necessary.\n",
    "    :param offset (int): where the collection of samples starts in the dataset.\n",
    "    :param batch_size (int): how many samples are collected.\n",
    "    :return ((array like, array like)):\n",
    "        - First element (numpy array like): batch of values for x.\n",
    "        - Second element (numpy array like): batch of values for y corresponding to those in the batch for x.\n",
    "    \"\"\"\n",
    "    selection = np.arange(offset, offset + batch_size) % n_samples\n",
    "    return x[selection], y[selection]"
   ]
  },
  {
   "cell_type": "markdown",
   "metadata": {},
   "source": [
    "Now, we have all the ingredients we need to code SGD on top of tensorflow.\n",
    "\n",
    "In this tutorial we will only evaluate the accuracy on the batch we are computing the gradient with.\n",
    "\n",
    "However, it is better to evaluate the accuracy on an independent test set that comprises of many more samples than there are in a single batch."
   ]
  },
  {
   "cell_type": "code",
   "execution_count": null,
   "metadata": {
    "collapsed": true
   },
   "outputs": [],
   "source": [
    "def stochastic_gradient_descent(tf_session, learning_rate, batch_size, \n",
    "                                LOSS_FCT, VARIABLE_LIST, EVAL_FCT,\n",
    "                                next_batch_fct,\n",
    "                                MAX_STEPS=200):\n",
    "    \"\"\"\n",
    "    Stochastic Gradient Descent using tensorflow to compute the gradient of LOSS_FCT \n",
    "    w.r.t the variables in VARIABLE_LIST on sub-samples of the data set.\n",
    "    Here we are using all the data set. Feed_dict remains constant.\n",
    "    :param tf_session (Tensorflow session): session that will be used to memorize and evaluate.\n",
    "    :param learning_rate (scalar): learning rate use in the gradient descent algorithm.\n",
    "    :param batch_size (int): number of elements sampled from the data set at each step.\n",
    "    :param LOSS_FCT (tensor): function used to measure the loss of the model we want to minimize.\n",
    "    :param VARIABLE_LIST ([tf.Variables]): list of variables w.r.t. which the gradient is computed.\n",
    "    :param EVAL_FCT (tensor): function used to measure the performance of the model we want to minimize.\n",
    "    :param next_batch_fct ((int, int) -> (array, array)): collect samples for the next training step.\n",
    "    :param MAX_STEPS (int): maximum number of steps allowed to prevent an infinite loop.\n",
    "    :returns ((list, list, list, list)):\n",
    "        - First element (list of arrays or scalars): optimal values found for the variables of the model.\n",
    "        - Second element (list of lists of arrays or scalars): recorded values for the variables of the model.\n",
    "        - Third element (list of scalars): recorded values for the loss function.\n",
    "        - Fourth element (list of scalars): recorded values for the evaluation function.\n",
    "    \"\"\"\n",
    "    #\n",
    "    #    Your code here\n",
    "    #\n",
    "    \n",
    "    #return optimum_variable_values, trajectory, losses, accuracies"
   ]
  },
  {
   "cell_type": "markdown",
   "metadata": {},
   "source": [
    "And we can run this algorithm to solve our logistic regression."
   ]
  },
  {
   "cell_type": "code",
   "execution_count": null,
   "metadata": {
    "collapsed": false
   },
   "outputs": [],
   "source": [
    "sess = tf.Session()\n",
    "sess.run(tf.global_variables_initializer())\n",
    "\n",
    "_, trajectory, losses, accuracies = stochastic_gradient_descent(sess, 1e-1, 8,\n",
    "                                                                LOSS, [A, B], ACCURACY,\n",
    "                                                                get_next_batch)\n",
    "sess.close()\n",
    "\n",
    "print('Optimum found in %d steps of Gradient Descent.' % n_steps)\n",
    "\n",
    "plt.subplot(121)\n",
    "plt.plot(losses)\n",
    "plt.title('Loss')\n",
    "plt.xlabel('Iteration')\n",
    "plt.ylabel('Log loss')\n",
    "plt.yscale('log')\n",
    "\n",
    "plt.subplot(122)\n",
    "plt.plot(accuracies)\n",
    "plt.title('Accuracy')\n",
    "plt.xlabel('Iteration')\n",
    "plt.ylabel('Accuracy')\n",
    "\n",
    "plt.show()"
   ]
  },
  {
   "cell_type": "markdown",
   "metadata": {},
   "source": [
    "Normally, this should run faster now, each iteration being faster.\n",
    "\n",
    "### YOUR ANSWER HERE\n",
    "\n",
    "a) Do we actually achieve faster training systematically?\n",
    "\n",
    "b) We used a constant learning rate here, is this a good idea?\n",
    "\n",
    "Answers:\n",
    "\n",
    "a)\n",
    "\n",
    "b)"
   ]
  },
  {
   "cell_type": "code",
   "execution_count": null,
   "metadata": {
    "collapsed": true
   },
   "outputs": [],
   "source": []
  }
 ],
 "metadata": {
  "kernelspec": {
   "display_name": "Python 2",
   "language": "python",
   "name": "python2"
  },
  "language_info": {
   "codemirror_mode": {
    "name": "ipython",
    "version": 2
   },
   "file_extension": ".py",
   "mimetype": "text/x-python",
   "name": "python",
   "nbconvert_exporter": "python",
   "pygments_lexer": "ipython2",
   "version": "2.7.12"
  },
  "widgets": {
   "state": {},
   "version": "1.1.2"
  }
 },
 "nbformat": 4,
 "nbformat_minor": 1
}
